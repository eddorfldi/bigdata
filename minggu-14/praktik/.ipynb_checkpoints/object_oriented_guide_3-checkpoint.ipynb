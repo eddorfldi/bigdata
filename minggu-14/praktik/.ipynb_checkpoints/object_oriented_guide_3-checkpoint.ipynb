{
 "cells": [
  {
   "cell_type": "code",
   "execution_count": 1,
   "metadata": {},
   "outputs": [],
   "source": [
    "import matplotlib.pyplot as plt\n",
    "import pandas as pd\n",
    "import numpy as np"
   ]
  },
  {
   "cell_type": "code",
   "execution_count": 2,
   "metadata": {},
   "outputs": [
    {
     "data": {
      "image/png": "[encoded data removed]",
      "text/plain": [
       "<Figure size 432x288 with 1 Axes>"
      ]
     },
     "metadata": {
      "needs_background": "light"
     },
     "output_type": "display_data"
    }
   ],
   "source": [
    " plot_objects = plt.subplots(nrows=1, ncols=1) "
   ]
  },
  {
   "cell_type": "code",
   "execution_count": 3,
   "metadata": {},
   "outputs": [
    {
     "data": {
      "text/plain": [
       "tuple"
      ]
     },
     "execution_count": 3,
     "metadata": {},
     "output_type": "execute_result"
    }
   ],
   "source": [
    "type(plot_objects) "
   ]
  },
  {
   "cell_type": "code",
   "execution_count": 4,
   "metadata": {},
   "outputs": [],
   "source": [
    "fig = plot_objects[0] "
   ]
  },
  {
   "cell_type": "code",
   "execution_count": 5,
   "metadata": {},
   "outputs": [],
   "source": [
    " ax = plot_objects[1] "
   ]
  },
  {
   "cell_type": "code",
   "execution_count": 6,
   "metadata": {},
   "outputs": [
    {
     "data": {
      "image/png": "[encoded data removed]",
      "text/plain": [
       "<Figure size 432x288 with 8 Axes>"
      ]
     },
     "metadata": {
      "needs_background": "light"
     },
     "output_type": "display_data"
    }
   ],
   "source": [
    " plot_objects = plt.subplots(2, 4)"
   ]
  },
  {
   "cell_type": "code",
   "execution_count": 7,
   "metadata": {},
   "outputs": [
    {
     "data": {
      "text/plain": [
       "array([[<matplotlib.axes._subplots.AxesSubplot object at 0x000002D40E1C1908>,\n",
       "        <matplotlib.axes._subplots.AxesSubplot object at 0x000002D40E20C0F0>,\n",
       "        <matplotlib.axes._subplots.AxesSubplot object at 0x000002D40E232780>,\n",
       "        <matplotlib.axes._subplots.AxesSubplot object at 0x000002D40E25BDA0>],\n",
       "       [<matplotlib.axes._subplots.AxesSubplot object at 0x000002D40E28D4A8>,\n",
       "        <matplotlib.axes._subplots.AxesSubplot object at 0x000002D40E2B4B00>,\n",
       "        <matplotlib.axes._subplots.AxesSubplot object at 0x000002D40E2E61D0>,\n",
       "        <matplotlib.axes._subplots.AxesSubplot object at 0x000002D40E30F860>]],\n",
       "      dtype=object)"
      ]
     },
     "execution_count": 7,
     "metadata": {},
     "output_type": "execute_result"
    }
   ],
   "source": [
    " plot_objects[1] "
   ]
  },
  {
   "cell_type": "code",
   "execution_count": 8,
   "metadata": {},
   "outputs": [
    {
     "data": {
      "text/plain": [
       "True"
      ]
     },
     "execution_count": 8,
     "metadata": {},
     "output_type": "execute_result"
    }
   ],
   "source": [
    " fig.axes == fig.get_axes()"
   ]
  },
  {
   "cell_type": "code",
   "execution_count": 9,
   "metadata": {},
   "outputs": [
    {
     "data": {
      "text/plain": [
       "{'agg_filter': None,\n",
       " 'alpha': None,\n",
       " 'animated': False,\n",
       " 'children': [Text(0.5,3.2,''),\n",
       "  Text(1,4.2,''),\n",
       "  <matplotlib.axis.XTick at 0x2d40df00860>,\n",
       "  <matplotlib.axis.XTick at 0x2d40dee2fd0>,\n",
       "  <matplotlib.axis.XTick at 0x2d40e17a668>,\n",
       "  <matplotlib.axis.XTick at 0x2d40e17a860>,\n",
       "  <matplotlib.axis.XTick at 0x2d40e1940f0>,\n",
       "  <matplotlib.axis.XTick at 0x2d40e194588>],\n",
       " 'clip_box': <matplotlib.transforms.TransformedBbox at 0x2d40e167128>,\n",
       " 'clip_on': True,\n",
       " 'clip_path': None,\n",
       " 'contains': None,\n",
       " 'data_interval': array([ inf, -inf]),\n",
       " 'figure': <Figure size 432x288 with 1 Axes>,\n",
       " 'gid': None,\n",
       " 'gridlines': <a list of 6 Line2D gridline objects>,\n",
       " 'label': Text(0.5,3.2,''),\n",
       " 'label_position': 'bottom',\n",
       " 'label_text': '',\n",
       " 'major_formatter': <matplotlib.ticker.ScalarFormatter at 0x2d40dee2dd8>,\n",
       " 'major_locator': <matplotlib.ticker.AutoLocator at 0x2d40dee2e10>,\n",
       " 'major_ticks': [<matplotlib.axis.XTick at 0x2d40df00860>,\n",
       "  <matplotlib.axis.XTick at 0x2d40dee2fd0>,\n",
       "  <matplotlib.axis.XTick at 0x2d40e17a668>,\n",
       "  <matplotlib.axis.XTick at 0x2d40e17a860>,\n",
       "  <matplotlib.axis.XTick at 0x2d40e1940f0>,\n",
       "  <matplotlib.axis.XTick at 0x2d40e194588>],\n",
       " 'majorticklabels': <a list of 6 Text major ticklabel objects>,\n",
       " 'majorticklines': <a list of 12 Line2D ticklines objects>,\n",
       " 'majorticklocs': array([0. , 0.2, 0.4, 0.6, 0.8, 1. ]),\n",
       " 'minor_formatter': <matplotlib.ticker.NullFormatter at 0x2d40dee2f98>,\n",
       " 'minor_locator': <matplotlib.ticker.NullLocator at 0x2d40dee2b00>,\n",
       " 'minor_ticks': [],\n",
       " 'minorticklabels': <a list of 0 Text minor ticklabel objects>,\n",
       " 'minorticklines': <a list of 0 Line2D ticklines objects>,\n",
       " 'minorticklocs': [],\n",
       " 'minpos': inf,\n",
       " 'offset_text': Text(1,4.2,''),\n",
       " 'path_effects': [],\n",
       " 'picker': None,\n",
       " 'pickradius': 15,\n",
       " 'rasterized': None,\n",
       " 'scale': 'linear',\n",
       " 'sketch_params': None,\n",
       " 'smart_bounds': False,\n",
       " 'snap': None,\n",
       " 'tick_padding': 3.5,\n",
       " 'tick_space': 11,\n",
       " 'ticklabels': <a list of 6 Text major ticklabel objects>,\n",
       " 'ticklines': <a list of 12 Line2D ticklines objects>,\n",
       " 'ticklocs': array([0. , 0.2, 0.4, 0.6, 0.8, 1. ]),\n",
       " 'ticks_direction': array(['out', 'out', 'out', 'out', 'out', 'out'], dtype='<U3'),\n",
       " 'ticks_position': 'bottom',\n",
       " 'transform': <matplotlib.transforms.IdentityTransform at 0x2d40e3aef98>,\n",
       " 'transformed_clip_path_and_affine': (None, None),\n",
       " 'units': None,\n",
       " 'url': None,\n",
       " 'view_interval': array([0., 1.]),\n",
       " 'visible': True,\n",
       " 'zorder': 1.5}"
      ]
     },
     "execution_count": 9,
     "metadata": {},
     "output_type": "execute_result"
    }
   ],
   "source": [
    " ax.xaxis.properties()"
   ]
  },
  {
   "cell_type": "code",
   "execution_count": null,
   "metadata": {},
   "outputs": [],
   "source": []
  }
 ],
 "metadata": {
  "kernelspec": {
   "display_name": "Python 3",
   "language": "python",
   "name": "python3"
  },
  "language_info": {
   "codemirror_mode": {
    "name": "ipython",
    "version": 3
   },
   "file_extension": ".py",
   "mimetype": "text/x-python",
   "name": "python",
   "nbconvert_exporter": "python",
   "pygments_lexer": "ipython3",
   "version": "3.7.0"
  }
 },
 "nbformat": 4,
 "nbformat_minor": 2
}
